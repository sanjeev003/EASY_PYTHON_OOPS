{
 "cells": [
  {
   "attachments": {},
   "cell_type": "markdown",
   "metadata": {},
   "source": [
    "# CLASSES and OBJECTS"
   ]
  },
  {
   "attachments": {},
   "cell_type": "markdown",
   "metadata": {},
   "source": [
    "Object is a reference to the Class with the help of Objects we can access the Class Members(Data and Functions)          \n",
    "The Variables declared in function are called local variables and the variables declared in class and outside it's functions are called instance variables."
   ]
  },
  {
   "attachments": {},
   "cell_type": "markdown",
   "metadata": {},
   "source": [
    "Class should be defined with the \"class\" keyword followed by class_name and semicolon(:).              \n",
    "Object creaton object_name=class_name()                     \n",
    "Example is given below"
   ]
  },
  {
   "cell_type": "code",
   "execution_count": 1,
   "metadata": {},
   "outputs": [
    {
     "name": "stdout",
     "output_type": "stream",
     "text": [
      "This rno is by object name: 5425\n",
      "This name is by object name: sanjeev\n",
      "This branch is by object name: ai & ds\n",
      "Reading.....\n",
      "This rno is by class name: 5425\n",
      "This name is by class name: sanjeev\n",
      "This branch is by class name: ai & ds\n",
      "writing.....\n"
     ]
    }
   ],
   "source": [
    "class student:\n",
    "    rno=5425 #instance variable\n",
    "    name=\"sanjeev\" #instance variable\n",
    "    branch=\"ai & ds\" #instance variable\n",
    "    def read(self):   # Every Argument list should starts with \"Self\"\n",
    "        print(\"Reading.....\")\n",
    "    def write(self):\n",
    "        print(\"writing.....\")\n",
    "s1=student()   #Object\n",
    "s2=student()   #Object\n",
    "# We can access these instance variables through the object name or class name\n",
    "print(\"This rno is by object name:\",s1.rno)\n",
    "print(\"This name is by object name:\",s1.name)\n",
    "print(\"This branch is by object name:\",s1.branch)\n",
    "s1.read()\n",
    "print(\"This rno is by class name:\",student.rno)\n",
    "print(\"This name is by class name:\",student.name)\n",
    "print(\"This branch is by class name:\",student.branch)\n",
    "s2.write() "
   ]
  }
 ],
 "metadata": {
  "interpreter": {
   "hash": "df642eef7b43fe7a4a517bca7a97690968a466268416ac555ac71584a4a4c66c"
  },
  "kernelspec": {
   "display_name": "Python 3.9.6 64-bit",
   "language": "python",
   "name": "python3"
  },
  "language_info": {
   "codemirror_mode": {
    "name": "ipython",
    "version": 3
   },
   "file_extension": ".py",
   "mimetype": "text/x-python",
   "name": "python",
   "nbconvert_exporter": "python",
   "pygments_lexer": "ipython3",
   "version": "3.9.6"
  },
  "orig_nbformat": 4
 },
 "nbformat": 4,
 "nbformat_minor": 2
}
