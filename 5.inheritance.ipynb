{
 "cells": [
  {
   "attachments": {},
   "cell_type": "markdown",
   "metadata": {},
   "source": [
    "# INHERITANCE                             \n",
    "Derived class aquring the properties of base class"
   ]
  },
  {
   "attachments": {},
   "cell_type": "markdown",
   "metadata": {},
   "source": [
    "# Types of Inheritance          \n",
    "1. Single                  \n",
    "2. Multi-Level               \n",
    "3. Hierarchial                \n",
    "4. Multiple                          \n",
    "5. Hybrid "
   ]
  },
  {
   "attachments": {},
   "cell_type": "markdown",
   "metadata": {},
   "source": [
    "# 1.Single Inheritance            \n",
    "Here only one class is derived from parent class            \n",
    "example is given below"
   ]
  },
  {
   "cell_type": "code",
   "execution_count": 4,
   "metadata": {},
   "outputs": [
    {
     "name": "stdout",
     "output_type": "stream",
     "text": [
      "child\n",
      "parent\n"
     ]
    }
   ],
   "source": [
    "class parent:\n",
    "    def display(self):\n",
    "        print(\"parent\")\n",
    "class child(parent):\n",
    "    def show(self):\n",
    "        print(\"child\")\n",
    "c1=child()\n",
    "c1.show()\n",
    "c1.display()"
   ]
  },
  {
   "attachments": {},
   "cell_type": "markdown",
   "metadata": {},
   "source": [
    "# 2.Multi-Level Inheritance               \n",
    "Here a Class is derived from base class and after that this Derived class becomes a base class and another class will be derived from it until sufficient classes are derived           "
   ]
  },
  {
   "cell_type": "code",
   "execution_count": 5,
   "metadata": {},
   "outputs": [
    {
     "name": "stdout",
     "output_type": "stream",
     "text": [
      "GrandParent\n",
      "Parent\n",
      "Child\n"
     ]
    }
   ],
   "source": [
    "class grandparent:\n",
    "    def gdisplay(self):\n",
    "        print(\"GrandParent\")\n",
    "class parent(grandparent):\n",
    "    def pdisplay(self):\n",
    "        print(\"Parent\")\n",
    "class children(parent):\n",
    "    def cdisplay(self):\n",
    "        print(\"Child\")\n",
    "c1=children()\n",
    "c1.gdisplay()\n",
    "c1.pdisplay()\n",
    "c1.cdisplay()"
   ]
  },
  {
   "attachments": {},
   "cell_type": "markdown",
   "metadata": {},
   "source": [
    "# 3.Heirarchical Inheritance                \n",
    "Deriving more than one classes from base class is called hierarchical Inheritance "
   ]
  },
  {
   "cell_type": "code",
   "execution_count": 6,
   "metadata": {},
   "outputs": [
    {
     "name": "stdout",
     "output_type": "stream",
     "text": [
      "parent\n",
      "child-1\n",
      "parent\n",
      "child-2\n"
     ]
    }
   ],
   "source": [
    "class parent:\n",
    "    def pdisplay(self):\n",
    "        print(\"parent\")\n",
    "class child1(parent):\n",
    "    def c1display(self):\n",
    "        print(\"child-1\")\n",
    "class child2(parent):\n",
    "    def c2display(self):\n",
    "        print(\"child-2\")\n",
    "c1=child1()\n",
    "c1.pdisplay()\n",
    "c1.c1display()\n",
    "c2=child2()\n",
    "c2.pdisplay()\n",
    "c2.c2display()"
   ]
  },
  {
   "attachments": {},
   "cell_type": "markdown",
   "metadata": {},
   "source": [
    "# 4.Multiple Inheritance                \n",
    "A Derived class is aquiring properties from multiple parents is called Multiple Inheritance\n",
    "\n"
   ]
  },
  {
   "cell_type": "code",
   "execution_count": 7,
   "metadata": {},
   "outputs": [
    {
     "name": "stdout",
     "output_type": "stream",
     "text": [
      "child\n",
      "parent1\n",
      "parent2\n"
     ]
    }
   ],
   "source": [
    "class parent1:\n",
    "    def p1display(self):\n",
    "        print(\"parent1\")\n",
    "class parent2:\n",
    "    def p2display(self):\n",
    "        print(\"parent2\")\n",
    "class child(parent1,parent2):\n",
    "    def cdisplay(self):\n",
    "        print(\"child\")\n",
    "c=child()\n",
    "c.cdisplay()\n",
    "c.p1display()\n",
    "c.p2display()"
   ]
  },
  {
   "attachments": {},
   "cell_type": "markdown",
   "metadata": {},
   "source": [
    "# Hybrid Inheritance                                "
   ]
  },
  {
   "attachments": {},
   "cell_type": "markdown",
   "metadata": {},
   "source": [
    "Combination of two or more Inheritance is known as Hybrid Inheritance                           "
   ]
  },
  {
   "cell_type": "code",
   "execution_count": 8,
   "metadata": {},
   "outputs": [
    {
     "name": "stdout",
     "output_type": "stream",
     "text": [
      "child\n",
      "parent1\n",
      "parent2\n"
     ]
    }
   ],
   "source": [
    "class parent1:\n",
    "    def p1display(self):\n",
    "        print(\"parent1\")\n",
    "class parent2:\n",
    "    def p2display(parent1):\n",
    "        print(\"parent2\")\n",
    "class child(parent1,parent2):\n",
    "    def cdisplay(self):\n",
    "        print(\"child\")\n",
    "c=child()\n",
    "c.cdisplay()\n",
    "c.p1display()\n",
    "c.p2display()"
   ]
  }
 ],
 "metadata": {
  "kernelspec": {
   "display_name": "Python 3.9.6 64-bit",
   "language": "python",
   "name": "python3"
  },
  "language_info": {
   "codemirror_mode": {
    "name": "ipython",
    "version": 3
   },
   "file_extension": ".py",
   "mimetype": "text/x-python",
   "name": "python",
   "nbconvert_exporter": "python",
   "pygments_lexer": "ipython3",
   "version": "3.9.6"
  },
  "orig_nbformat": 4,
  "vscode": {
   "interpreter": {
    "hash": "47e86d731e077963188d400b641a1f5cee6401b89b8a1175acb1a082248e2517"
   }
  }
 },
 "nbformat": 4,
 "nbformat_minor": 2
}
