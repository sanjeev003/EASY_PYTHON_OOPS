{
 "cells": [
  {
   "cell_type": "markdown",
   "metadata": {},
   "source": [
    "# Polymorphism                      \n",
    "Implementing same method in different ways                      \n",
    "POLYMORPHISM can be achieved through two ways                       \n",
    "1. OVERLOADING                          \n",
    "2. OVERRIDING"
   ]
  },
  {
   "cell_type": "markdown",
   "metadata": {},
   "source": [
    "# OVERLOADING                   \n",
    "OVERLOADING is of two types                 \n",
    "1. Operator overloading                     \n",
    "2. method overloading"
   ]
  },
  {
   "cell_type": "markdown",
   "metadata": {},
   "source": [
    "OPERATOR OVERLOADING                    \n",
    "The best example of operator overloading is plus(+)             \n",
    "It is used to concatinate when we are given two strings/characters                      \n",
    "It is used to do addition when we are given two integers                    \n"
   ]
  },
  {
   "cell_type": "code",
   "execution_count": null,
   "metadata": {},
   "outputs": [],
   "source": [
    "a=\"hello \"\n",
    "b=\"welcome\"\n",
    "print(a+b)\n",
    "                    # Here same + operator perform two different things\n",
    "c=12\n",
    "d=21\n",
    "print(c+d)"
   ]
  },
  {
   "cell_type": "markdown",
   "metadata": {},
   "source": [
    "METHOD OVERLOADING                          \n",
    "Here the METHOD NAME must be SAME                       \n",
    "But the number of ARGUMENTS must be DIFFERENT                   \n",
    "For example                         \n",
    "add(a,b) and add(a,b,c)                         "
   ]
  },
  {
   "cell_type": "code",
   "execution_count": null,
   "metadata": {},
   "outputs": [],
   "source": [
    "class Moverload:\n",
    "    def display(self,a=None,b=None):\n",
    "        print(a,b)\n",
    "\n",
    "obj=Moverload()\n",
    "obj.display()\n",
    "obj.display(10)\n",
    "obj.display(10,20)"
   ]
  },
  {
   "cell_type": "markdown",
   "metadata": {},
   "source": [
    "# NOTE                    \n",
    "In PYTHON METHOD OVERLOADING can be achieved through the DEFAULT ARGUMENT"
   ]
  },
  {
   "cell_type": "markdown",
   "metadata": {},
   "source": [
    "# OVERRIDING                        \n",
    "METHOD OVERRIDING:- If the Base Class and Derived Class  have the same method with same number of arguments then the Derived Class method Masks the Base Class method and the Base Class method will not be executed                    \n",
    " "
   ]
  },
  {
   "cell_type": "code",
   "execution_count": null,
   "metadata": {},
   "outputs": [],
   "source": [
    "class sachin():\n",
    "    def sport(self):\n",
    "        print(\"GOD OF CRICKET\")\n",
    "class virat(sachin):\n",
    "    def sport(self):\n",
    "        print(\"KING OF CRICKET\")\n",
    "obj=virat()\n",
    "obj.sport()"
   ]
  }
 ],
 "metadata": {
  "interpreter": {
   "hash": "df642eef7b43fe7a4a517bca7a97690968a466268416ac555ac71584a4a4c66c"
  },
  "kernelspec": {
   "display_name": "Python 3.9.6 64-bit",
   "language": "python",
   "name": "python3"
  },
  "language_info": {
   "codemirror_mode": {
    "name": "ipython",
    "version": 3
   },
   "file_extension": ".py",
   "mimetype": "text/x-python",
   "name": "python",
   "nbconvert_exporter": "python",
   "pygments_lexer": "ipython3",
   "version": "3.9.6"
  },
  "orig_nbformat": 4
 },
 "nbformat": 4,
 "nbformat_minor": 2
}
