{
 "cells": [
  {
   "attachments": {},
   "cell_type": "markdown",
   "metadata": {},
   "source": [
    "# Encapsulation               \n",
    "combining the variables and methods in a class into single entity is called Encapsulation               \n",
    "This can be done through access specifiers.                     \n",
    "We have three access specifiers                     \n",
    "1.public(The data and function can be accessed by any function in any class)                    \n",
    "2.Private(This data and function are only used in which it is declared)                     \n",
    "3.Protect(It can be accesed by the only class where it is declared or inherited)"
   ]
  },
  {
   "attachments": {},
   "cell_type": "markdown",
   "metadata": {},
   "source": [
    "# 1. Public access specifier"
   ]
  },
  {
   "cell_type": "code",
   "execution_count": 1,
   "metadata": {},
   "outputs": [
    {
     "name": "stdout",
     "output_type": "stream",
     "text": [
      "10\n",
      "welcome\n"
     ]
    }
   ],
   "source": [
    "class encap:\n",
    "    a=10; #public variable\n",
    "    def display(self):\n",
    "        print(\"welcome\")\n",
    "obj=encap()\n",
    "print(obj.a)\n",
    "obj.display()"
   ]
  },
  {
   "attachments": {},
   "cell_type": "markdown",
   "metadata": {},
   "source": [
    "# 2. Private access specifier                 \n",
    "To make Public variable into Private variable we just have to put Two Underscores(__) before the  Public variable"
   ]
  },
  {
   "cell_type": "code",
   "execution_count": 2,
   "metadata": {},
   "outputs": [
    {
     "name": "stdout",
     "output_type": "stream",
     "text": [
      "welcome\n",
      "10\n"
     ]
    }
   ],
   "source": [
    "class encap:\n",
    "    __a=10; #private variable\n",
    "    def display(self):\n",
    "        print(\"welcome\")\n",
    "        print(self.__a)\n",
    "obj=encap()\n",
    "obj.display()"
   ]
  },
  {
   "attachments": {},
   "cell_type": "markdown",
   "metadata": {},
   "source": [
    "# 3. Protect access specifier"
   ]
  },
  {
   "cell_type": "code",
   "execution_count": 3,
   "metadata": {},
   "outputs": [
    {
     "name": "stdout",
     "output_type": "stream",
     "text": [
      "42\n",
      "This is a protected method.\n"
     ]
    }
   ],
   "source": [
    "class MyClass:\n",
    "    def __init__(self):\n",
    "        self._protected_attribute = 42\n",
    "\n",
    "    def _protected_method(self):\n",
    "        print(\"This is a protected method.\")\n",
    "\n",
    "class MyDerivedClass(MyClass):\n",
    "    def access_protected(self):\n",
    "        print(self._protected_attribute)  # Accessing a protected attribute\n",
    "        self._protected_method()  # Invoking a protected method\n",
    "\n",
    "obj = MyDerivedClass()\n",
    "obj.access_protected()"
   ]
  }
 ],
 "metadata": {
  "interpreter": {
   "hash": "df642eef7b43fe7a4a517bca7a97690968a466268416ac555ac71584a4a4c66c"
  },
  "kernelspec": {
   "display_name": "Python 3.9.6 64-bit",
   "language": "python",
   "name": "python3"
  },
  "language_info": {
   "codemirror_mode": {
    "name": "ipython",
    "version": 3
   },
   "file_extension": ".py",
   "mimetype": "text/x-python",
   "name": "python",
   "nbconvert_exporter": "python",
   "pygments_lexer": "ipython3",
   "version": "3.9.6"
  },
  "orig_nbformat": 4
 },
 "nbformat": 4,
 "nbformat_minor": 2
}
