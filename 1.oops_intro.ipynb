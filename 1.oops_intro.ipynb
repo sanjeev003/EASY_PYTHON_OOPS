{
 "cells": [
  {
   "attachments": {},
   "cell_type": "markdown",
   "metadata": {},
   "source": [
    "# Introduction of OOP in Python"
   ]
  },
  {
   "attachments": {},
   "cell_type": "markdown",
   "metadata": {},
   "source": [
    "# Class:                  \n",
    "In object-oriented programming (OOP), a class is a blueprint or template for creating objects. It defines a set of attributes (data members) and behaviors (member functions or methods) that the objects of that class will possess.               \n",
    "It is a logical structure with behaviour."
   ]
  },
  {
   "attachments": {},
   "cell_type": "markdown",
   "metadata": {},
   "source": [
    "NOTE: what ever the structure we defined for the class should be followed by the objects/instances created by that particular class."
   ]
  },
  {
   "attachments": {},
   "cell_type": "markdown",
   "metadata": {},
   "source": [
    "# Object:\n",
    "object is the instance of the class.                                       \n",
    "Every class can have multiple objects.                  \n",
    "A class can have Attributes and Functions.                  \n",
    "With the help of object only we can communicate with the class.                     \n",
    "With the help of object only we can access the methods and attributes of a class.                   \n",
    "The Data and Function are called Class Members.                     \n",
    "All the attributes and functions of class are also belong to it's object."
   ]
  },
  {
   "attachments": {},
   "cell_type": "markdown",
   "metadata": {},
   "source": [
    "# Abstraction:                  \n",
    "Hiding the implimentations details and showing the essentials details is called Abstraction"
   ]
  },
  {
   "attachments": {},
   "cell_type": "markdown",
   "metadata": {},
   "source": [
    "# Encapsulation:                      \n",
    "Binding data and function into a single entity is called Encapsulation.                     \n",
    "This can be done through access specifiers.                 \n",
    "We have three access specifiers                     \n",
    "1.public(The data and function can be accessed by any function in any class)                    \n",
    "2.Private(This data and function are only used in which it is declared)                     \n",
    "3.Protect(It can be accesed by the only class where it is declared or inherited)"
   ]
  },
  {
   "attachments": {},
   "cell_type": "markdown",
   "metadata": {},
   "source": [
    "# Inheritance:                      \n",
    "Here Derived class inherits the properties of Base class.                       \n",
    "Derived class is also called as Child class and Base class is also called as Parent class.                      \n",
    "Derived class haves all the attributes and functions of the Parent class and we can also give some other attributes and functions to the Derived class."
   ]
  },
  {
   "attachments": {},
   "cell_type": "markdown",
   "metadata": {},
   "source": [
    "# Polymorphism:                             \n",
    "Implementing same method in different context is known as Polymorphism.                     \n",
    "Here methods with same name Implementing in different way.                      \n",
    "For example add(x,y) and add() will be same."
   ]
  },
  {
   "attachments": {},
   "cell_type": "markdown",
   "metadata": {},
   "source": [
    "# Advanatages of OOP:                           \n",
    "1.Reusablity of Objects across programs                     \n",
    "2.complex things can be reproducible to simple things                   \n",
    "3.Allows for Class-Specific behaviour through Polymorphism                      \n",
    "4.Secure and protects information through Encapsulation                     \n",
    "5.Debugging will be easy "
   ]
  }
 ],
 "metadata": {
  "language_info": {
   "name": "python"
  },
  "orig_nbformat": 4
 },
 "nbformat": 4,
 "nbformat_minor": 2
}
