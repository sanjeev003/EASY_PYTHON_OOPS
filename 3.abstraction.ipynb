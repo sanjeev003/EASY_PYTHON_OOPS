{
 "cells": [
  {
   "attachments": {},
   "cell_type": "markdown",
   "metadata": {},
   "source": [
    "# Abstract class                  \n",
    "A class which have only Abstract methods"
   ]
  },
  {
   "attachments": {},
   "cell_type": "markdown",
   "metadata": {},
   "source": [
    "# Abstract method                     \n",
    "A method which contain only Declaration but not the Definition is called Abstract method                    \n",
    "Hiding the implimentations details and showing the essentials details is called Abstraction"
   ]
  },
  {
   "attachments": {},
   "cell_type": "markdown",
   "metadata": {},
   "source": [
    "# Concrete class                \n",
    "Class without any Abstract methods is called Concrete class"
   ]
  },
  {
   "attachments": {},
   "cell_type": "markdown",
   "metadata": {},
   "source": [
    "Object can't be instantiated for Abstract class                 \n",
    "Object can be instantiated for concrete class                   "
   ]
  },
  {
   "attachments": {},
   "cell_type": "markdown",
   "metadata": {},
   "source": [
    "# Abstract class to Concrete class                      \n",
    "We can change Abstract class to Concrete class by inheritance                   "
   ]
  },
  {
   "attachments": {},
   "cell_type": "markdown",
   "metadata": {},
   "source": [
    "abc-> MODULE                    \n",
    "ABC-> OBJ                  \n",
    "ABSTRACT METHOD(Decorator)"
   ]
  },
  {
   "cell_type": "code",
   "execution_count": 1,
   "metadata": {},
   "outputs": [
    {
     "name": "stdout",
     "output_type": "stream",
     "text": [
      "milage is 350kmphs\n",
      "milage is 300kmphs\n",
      "Hello\n"
     ]
    }
   ],
   "source": [
    "from abc import ABC , abstractmethod\n",
    "\n",
    "class Car(ABC):\n",
    "    def milage(self):\n",
    "        print(\"Hello\")\n",
    "\n",
    "class Audi(Car):\n",
    "        def milage(self):\n",
    "            print(\"milage is 300kmphs\")\n",
    "\n",
    "class Lambo(Car):\n",
    "        def milage(self):\n",
    "            print(\"milage is 350kmphs\")\n",
    "\n",
    "l = Lambo()\n",
    "l.milage()\n",
    "\n",
    "a = Audi()\n",
    "a.milage()\n",
    "\n",
    "c = Car()\n",
    "c.milage()"
   ]
  },
  {
   "attachments": {},
   "cell_type": "markdown",
   "metadata": {},
   "source": [
    "# Note                      \n",
    "If a class is derived from Abstract class then it has to implement all the methods of Abstract class"
   ]
  }
 ],
 "metadata": {
  "interpreter": {
   "hash": "df642eef7b43fe7a4a517bca7a97690968a466268416ac555ac71584a4a4c66c"
  },
  "kernelspec": {
   "display_name": "Python 3.9.6 64-bit",
   "language": "python",
   "name": "python3"
  },
  "language_info": {
   "codemirror_mode": {
    "name": "ipython",
    "version": 3
   },
   "file_extension": ".py",
   "mimetype": "text/x-python",
   "name": "python",
   "nbconvert_exporter": "python",
   "pygments_lexer": "ipython3",
   "version": "3.9.6"
  },
  "orig_nbformat": 4
 },
 "nbformat": 4,
 "nbformat_minor": 2
}
